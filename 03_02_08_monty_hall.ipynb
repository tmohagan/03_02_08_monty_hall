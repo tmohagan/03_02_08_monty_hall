{
 "cells": [
  {
   "cell_type": "markdown",
   "metadata": {},
   "source": [
    "The initial choice is made with a probability of 1 in 3.\n",
    "\n",
    "After the host opens a losing door, we have to notice that host chooses not to identify one of the doors as a losing door.  That is an endorsement for that door.  We now have new information about that door which increases it's odds.  \n",
    "\n",
    "However, the host was not able to provide any information regarding the door we picked in the first place.  Which means, we do not have any new information about that door, and the odds do not change.  \n",
    "\n",
    "Therefore, we should go with the door which we have received the most amount of information about. That is, we should switch doors. "
   ]
  }
 ],
 "metadata": {
  "kernelspec": {
   "display_name": "Python 3",
   "language": "python",
   "name": "python3"
  },
  "language_info": {
   "codemirror_mode": {
    "name": "ipython",
    "version": 3
   },
   "file_extension": ".py",
   "mimetype": "text/x-python",
   "name": "python",
   "nbconvert_exporter": "python",
   "pygments_lexer": "ipython3",
   "version": "3.6.5"
  }
 },
 "nbformat": 4,
 "nbformat_minor": 2
}
